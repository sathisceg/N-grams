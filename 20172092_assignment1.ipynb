{
 "cells": [
  {
   "cell_type": "markdown",
   "metadata": {},
   "source": [
    "Tokenisation of Corpus"
   ]
  },
  {
   "cell_type": "code",
   "execution_count": 110,
   "metadata": {},
   "outputs": [],
   "source": [
    "# Download gutenberg dataset\n",
    "# This is the dataset on which all your models will be trained\n",
    "# https://drive.google.com/file/d/0B2Mzhc7popBga2RkcWZNcjlRTGM/edit\n"
   ]
  },
  {
   "cell_type": "markdown",
   "metadata": {},
   "source": [
    "Tokenisation of Corpus"
   ]
  },
  {
   "cell_type": "code",
   "execution_count": 111,
   "metadata": {},
   "outputs": [
    {
     "name": "stdout",
     "output_type": "stream",
     "text": [
      "./spellchecker/Bram Stoker___The Lair of the White Worm.txt\n"
     ]
    }
   ],
   "source": [
    "import glob\n",
    "import errno\n",
    "\n",
    "path = './spellchecker/*.txt'\n",
    "files = glob.glob(path)\n",
    "\n",
    "\n",
    "\n",
    "list_of_files=[]\n",
    "\n",
    "for name in files:\n",
    "    list_of_files.append(name)\n",
    "    print(name)"
   ]
  },
  {
   "cell_type": "code",
   "execution_count": 112,
   "metadata": {},
   "outputs": [],
   "source": [
    "def tokenise(sentence): \n",
    "     return re.findall(\"[A-Z\\-\\.']{2,}(?![a-z])|[A-Z\\-\\'][a-z\\-\\']+(?=[A-Z])|[\\'\\w\\-.]+\",sentence) \n",
    "def tokenise_corpus(corpus):\n",
    "     return [tokenise(sentence.lower()) for sentence in corpus]"
   ]
  },
  {
   "cell_type": "code",
   "execution_count": 113,
   "metadata": {},
   "outputs": [],
   "source": [
    "import re\n",
    "def read_files(list_of_files): \n",
    "    for temp in list_of_files:\n",
    "        f = open(temp,\"r\")\n",
    "        file_content=f.read()\n",
    "        list_of_lines=re.findall(\"([A-Za-z\\\\s][^\\.!?]*[\\.!?])\",file_content)\n",
    "        words_corpus_sentence=tokenise_corpus(list_of_lines)\n",
    "    return words_corpus_sentence;"
   ]
  },
  {
   "cell_type": "code",
   "execution_count": 114,
   "metadata": {},
   "outputs": [],
   "source": [
    "words_corpus_sentence=read_files(list_of_files)"
   ]
  },
  {
   "cell_type": "markdown",
   "metadata": {},
   "source": [
    "Most Frequent Words"
   ]
  },
  {
   "cell_type": "code",
   "execution_count": 115,
   "metadata": {},
   "outputs": [],
   "source": [
    "def token_counts(words_corpus_sentence):\n",
    "    tokens = {}\n",
    "    for sentence in words_corpus_sentence:\n",
    "        for word in sentence:\n",
    "            if word not in tokens:\n",
    "                  tokens[word] = 0\n",
    "\n",
    "            tokens[word] += 1\n",
    "    return tokens"
   ]
  },
  {
   "cell_type": "code",
   "execution_count": 116,
   "metadata": {},
   "outputs": [
    {
     "data": {
      "text/html": [
       "<script>requirejs.config({paths: { 'plotly': ['https://cdn.plot.ly/plotly-latest.min']},});if(!window.Plotly) {{require(['plotly'],function(plotly) {window.Plotly=plotly;});}}</script>"
      ],
      "text/vnd.plotly.v1+html": [
       "<script>requirejs.config({paths: { 'plotly': ['https://cdn.plot.ly/plotly-latest.min']},});if(!window.Plotly) {{require(['plotly'],function(plotly) {window.Plotly=plotly;});}}</script>"
      ]
     },
     "metadata": {},
     "output_type": "display_data"
    },
    {
     "data": {
      "application/vnd.plotly.v1+json": {
       "data": [
        {
         "type": "scatter",
         "uid": "3e815b5e-a3bc-11e8-b742-a402b9f9318e",
         "x": [
          "had",
          "the",
          "his",
          "he",
          "a",
          "to",
          "adam",
          "as",
          "salton",
          "and",
          "of",
          "with",
          "letter",
          "found",
          "from",
          "heard",
          "long",
          "spare.",
          "worm",
          "speak",
          "conveyed",
          "him",
          "touch.",
          "ensued.",
          "delighted",
          "just",
          "arrived",
          "trace",
          "old",
          "which",
          "awaiting",
          "father",
          "eagerly",
          "gentleman",
          "very",
          "time",
          "chapter",
          "year",
          "club",
          "richard",
          "older",
          "address.",
          "first",
          "that",
          "esteem.",
          "invitation",
          "grand-nephew's",
          "lair",
          "less",
          "interesting",
          "into",
          "empire",
          "branch",
          "arrives",
          "than",
          "it",
          "grand-uncle",
          "opened",
          "family",
          "nicoll",
          "friend",
          "often",
          "replied",
          "sydney",
          "unable",
          "claimed",
          "i--adam",
          "was",
          "some",
          "affectionate",
          "earlier",
          "lost",
          "sauntered",
          "my",
          "stating",
          "hill",
          "cordially",
          "for",
          "difficult",
          "bertha",
          "cordial",
          "could",
          "only",
          "lesser",
          "white",
          "people",
          "at",
          "when",
          "been",
          "stop",
          "before",
          "whom",
          "write",
          "kinship",
          "grand-uncle.",
          "correspondence"
         ],
         "y": [
          8,
          7,
          5,
          5,
          4,
          4,
          3,
          3,
          3,
          3,
          3,
          3,
          2,
          2,
          2,
          2,
          2,
          1,
          1,
          1,
          1,
          1,
          1,
          1,
          1,
          1,
          1,
          1,
          1,
          1,
          1,
          1,
          1,
          1,
          1,
          1,
          1,
          1,
          1,
          1,
          1,
          1,
          1,
          1,
          1,
          1,
          1,
          1,
          1,
          1,
          1,
          1,
          1,
          1,
          1,
          1,
          1,
          1,
          1,
          1,
          1,
          1,
          1,
          1,
          1,
          1,
          1,
          1,
          1,
          1,
          1,
          1,
          1,
          1,
          1,
          1,
          1,
          1,
          1,
          1,
          1,
          1,
          1,
          1,
          1,
          1,
          1,
          1,
          1,
          1,
          1,
          1,
          1,
          1,
          1,
          1
         ]
        }
       ],
       "layout": {}
      },
      "text/html": [
       "<div id=\"6e4acc87-10fb-401f-ba00-195f7f46ce19\" style=\"height: 525px; width: 100%;\" class=\"plotly-graph-div\"></div><script type=\"text/javascript\">require([\"plotly\"], function(Plotly) { window.PLOTLYENV=window.PLOTLYENV || {};window.PLOTLYENV.BASE_URL=\"https://plot.ly\";Plotly.newPlot(\"6e4acc87-10fb-401f-ba00-195f7f46ce19\", [{\"y\": [8, 7, 5, 5, 4, 4, 3, 3, 3, 3, 3, 3, 2, 2, 2, 2, 2, 1, 1, 1, 1, 1, 1, 1, 1, 1, 1, 1, 1, 1, 1, 1, 1, 1, 1, 1, 1, 1, 1, 1, 1, 1, 1, 1, 1, 1, 1, 1, 1, 1, 1, 1, 1, 1, 1, 1, 1, 1, 1, 1, 1, 1, 1, 1, 1, 1, 1, 1, 1, 1, 1, 1, 1, 1, 1, 1, 1, 1, 1, 1, 1, 1, 1, 1, 1, 1, 1, 1, 1, 1, 1, 1, 1, 1, 1, 1], \"type\": \"scatter\", \"uid\": \"3e815b5f-a3bc-11e8-b742-a402b9f9318e\", \"x\": [\"had\", \"the\", \"his\", \"he\", \"a\", \"to\", \"adam\", \"as\", \"salton\", \"and\", \"of\", \"with\", \"letter\", \"found\", \"from\", \"heard\", \"long\", \"spare.\", \"worm\", \"speak\", \"conveyed\", \"him\", \"touch.\", \"ensued.\", \"delighted\", \"just\", \"arrived\", \"trace\", \"old\", \"which\", \"awaiting\", \"father\", \"eagerly\", \"gentleman\", \"very\", \"time\", \"chapter\", \"year\", \"club\", \"richard\", \"older\", \"address.\", \"first\", \"that\", \"esteem.\", \"invitation\", \"grand-nephew's\", \"lair\", \"less\", \"interesting\", \"into\", \"empire\", \"branch\", \"arrives\", \"than\", \"it\", \"grand-uncle\", \"opened\", \"family\", \"nicoll\", \"friend\", \"often\", \"replied\", \"sydney\", \"unable\", \"claimed\", \"i--adam\", \"was\", \"some\", \"affectionate\", \"earlier\", \"lost\", \"sauntered\", \"my\", \"stating\", \"hill\", \"cordially\", \"for\", \"difficult\", \"bertha\", \"cordial\", \"could\", \"only\", \"lesser\", \"white\", \"people\", \"at\", \"when\", \"been\", \"stop\", \"before\", \"whom\", \"write\", \"kinship\", \"grand-uncle.\", \"correspondence\"]}], {}, {\"showLink\": true, \"linkText\": \"Export to plot.ly\"})});</script>"
      ],
      "text/vnd.plotly.v1+html": [
       "<div id=\"6e4acc87-10fb-401f-ba00-195f7f46ce19\" style=\"height: 525px; width: 100%;\" class=\"plotly-graph-div\"></div><script type=\"text/javascript\">require([\"plotly\"], function(Plotly) { window.PLOTLYENV=window.PLOTLYENV || {};window.PLOTLYENV.BASE_URL=\"https://plot.ly\";Plotly.newPlot(\"6e4acc87-10fb-401f-ba00-195f7f46ce19\", [{\"y\": [8, 7, 5, 5, 4, 4, 3, 3, 3, 3, 3, 3, 2, 2, 2, 2, 2, 1, 1, 1, 1, 1, 1, 1, 1, 1, 1, 1, 1, 1, 1, 1, 1, 1, 1, 1, 1, 1, 1, 1, 1, 1, 1, 1, 1, 1, 1, 1, 1, 1, 1, 1, 1, 1, 1, 1, 1, 1, 1, 1, 1, 1, 1, 1, 1, 1, 1, 1, 1, 1, 1, 1, 1, 1, 1, 1, 1, 1, 1, 1, 1, 1, 1, 1, 1, 1, 1, 1, 1, 1, 1, 1, 1, 1, 1, 1], \"type\": \"scatter\", \"uid\": \"3e815b5f-a3bc-11e8-b742-a402b9f9318e\", \"x\": [\"had\", \"the\", \"his\", \"he\", \"a\", \"to\", \"adam\", \"as\", \"salton\", \"and\", \"of\", \"with\", \"letter\", \"found\", \"from\", \"heard\", \"long\", \"spare.\", \"worm\", \"speak\", \"conveyed\", \"him\", \"touch.\", \"ensued.\", \"delighted\", \"just\", \"arrived\", \"trace\", \"old\", \"which\", \"awaiting\", \"father\", \"eagerly\", \"gentleman\", \"very\", \"time\", \"chapter\", \"year\", \"club\", \"richard\", \"older\", \"address.\", \"first\", \"that\", \"esteem.\", \"invitation\", \"grand-nephew's\", \"lair\", \"less\", \"interesting\", \"into\", \"empire\", \"branch\", \"arrives\", \"than\", \"it\", \"grand-uncle\", \"opened\", \"family\", \"nicoll\", \"friend\", \"often\", \"replied\", \"sydney\", \"unable\", \"claimed\", \"i--adam\", \"was\", \"some\", \"affectionate\", \"earlier\", \"lost\", \"sauntered\", \"my\", \"stating\", \"hill\", \"cordially\", \"for\", \"difficult\", \"bertha\", \"cordial\", \"could\", \"only\", \"lesser\", \"white\", \"people\", \"at\", \"when\", \"been\", \"stop\", \"before\", \"whom\", \"write\", \"kinship\", \"grand-uncle.\", \"correspondence\"]}], {}, {\"showLink\": true, \"linkText\": \"Export to plot.ly\"})});</script>"
      ]
     },
     "metadata": {},
     "output_type": "display_data"
    }
   ],
   "source": [
    "\n",
    "count_of_words=token_counts(words_corpus_sentence)\n",
    "tokens = count_of_words\n",
    "sorted_tokens = sorted(tokens.items(), key = lambda x: x[1], reverse=True)\n",
    "\n",
    "# print(sorted_tokens)\n",
    "    \n",
    "#zip curve for unigrm frequency\n",
    "\n",
    "from plotly import __version__\n",
    "from plotly.offline import download_plotlyjs, init_notebook_mode, plot, iplot\n",
    "from plotly.graph_objs import *\n",
    "init_notebook_mode(connected=True)\n",
    "iplot([{\"x\" : list(zip(*sorted_tokens))[0], \"y\": list(zip(*sorted_tokens))[1]}])"
   ]
  },
  {
   "cell_type": "markdown",
   "metadata": {},
   "source": [
    "Trigram Grammatical checker"
   ]
  },
  {
   "cell_type": "code",
   "execution_count": 117,
   "metadata": {},
   "outputs": [],
   "source": [
    " def get_trigrams(words_corpus_sentence): \n",
    "    trigrams={}\n",
    "    for sentence in words_corpus_sentence:\n",
    "         for index, word in enumerate(sentence):\n",
    "            if index > 1:\n",
    "                tri = (sentence[index - 2],sentence[index - 1], word)\n",
    "                if tri not in trigrams:\n",
    "                    trigrams[tri] =0\n",
    "                trigrams[tri] += 1\n",
    "    return trigrams"
   ]
  },
  {
   "cell_type": "code",
   "execution_count": 118,
   "metadata": {},
   "outputs": [],
   "source": [
    "def sort_dict_tri(d, reverse = True):\n",
    " return sorted(d.items(), key = lambda x : x[1], reverse = reverse)\n",
    "    \n"
   ]
  },
  {
   "cell_type": "code",
   "execution_count": 148,
   "metadata": {},
   "outputs": [],
   "source": [
    "trigrams=get_trigrams(words_corpus_sentence)\n",
    "sorted_trigrams = sort_dict_tri(trigrams)\n",
    "# print(sorted_trigrams[0])\n"
   ]
  },
  {
   "cell_type": "markdown",
   "metadata": {},
   "source": [
    "Laplace Method"
   ]
  },
  {
   "cell_type": "code",
   "execution_count": 120,
   "metadata": {},
   "outputs": [],
   "source": [
    "def add_one_trigrams(trigrams,V):\n",
    " new_trigrams = {}\n",
    " N = sum(trigrams.values())\n",
    " for word in trigrams:\n",
    "     new_trigrams[word] = round((trigrams[word] + 1)/ float(N+V), 15) * N\n",
    " #new_unigrams[word] = math.log((unigrams[word] + 1)/ float(N+V))\n",
    " return new_trigrams"
   ]
  },
  {
   "cell_type": "code",
   "execution_count": 121,
   "metadata": {},
   "outputs": [],
   "source": [
    "smoothed_double_trigrams = add_one_trigrams(trigrams, len(trigrams)*10)"
   ]
  },
  {
   "cell_type": "code",
   "execution_count": 122,
   "metadata": {},
   "outputs": [],
   "source": [
    "def eq_classes_trigrams(trigrams):\n",
    " eq = {}\n",
    " for k, v in trigrams.items():\n",
    "#      print(k,v)\n",
    "     if v not in eq:\n",
    "         eq[v] = []\n",
    "            \n",
    "     eq[v].append(k)\n",
    " return eq"
   ]
  },
  {
   "cell_type": "code",
   "execution_count": 123,
   "metadata": {},
   "outputs": [],
   "source": [
    "tr_eq_cls = eq_classes_trigrams(trigrams)\n",
    "N = sum(list(trigrams.values()))\n",
    "# print(tr_eq_cls)"
   ]
  },
  {
   "cell_type": "code",
   "execution_count": 124,
   "metadata": {},
   "outputs": [],
   "source": [
    "nrs_tri = eq_classes_trigrams(trigrams)\n",
    "# print(nrs)\n",
    "nr_counts_tri = {k : len(v) for k, v in nrs_tri.items()}\n",
    "# print(nr_counts_tri)\n",
    "nr_probs_tri = {k : (k*v)/float(N) for k, v in nr_counts_tri.items()} # P = r * Nr / N\n",
    "# print()\n",
    "# print(nr_probs_tri)\n",
    "sorted_nrs = sorted(nr_counts_tri.items())\n",
    "MAX = sorted_nrs[0][1]"
   ]
  },
  {
   "cell_type": "markdown",
   "metadata": {},
   "source": [
    "Good Turing"
   ]
  },
  {
   "cell_type": "code",
   "execution_count": 125,
   "metadata": {},
   "outputs": [],
   "source": [
    "def good_turing_tri(nrs):\n",
    " new_nrs = {}\n",
    " for r, nr in nrs.items():\n",
    "     if (r+1) in nrs:\n",
    "         new_nr = ((r+1) * nrs[r+1]) / float(N) \n",
    "     else:\n",
    "#          print(MAX)\n",
    "         new_nr = MAX*r**-2 / float(N)\n",
    "      \n",
    "     new_nrs[r] = new_nr\n",
    " return new_nrs"
   ]
  },
  {
   "cell_type": "code",
   "execution_count": 126,
   "metadata": {},
   "outputs": [],
   "source": [
    "new_nrs = good_turing_tri(nr_counts_tri)\n",
    "sorted_newnrs = sorted(new_nrs.items())\n",
    "\n",
    "# print(new_nrs)"
   ]
  },
  {
   "cell_type": "markdown",
   "metadata": {},
   "source": [
    "Code for Testing Grammar"
   ]
  },
  {
   "cell_type": "code",
   "execution_count": 127,
   "metadata": {},
   "outputs": [
    {
     "name": "stdout",
     "output_type": "stream",
     "text": [
      "./test/check_grammar.txt\n"
     ]
    }
   ],
   "source": [
    "path = './test/*.txt'\n",
    "files = glob.glob(path)\n",
    "\n",
    "\n",
    "\n",
    "list_of_files_test=[]\n",
    "\n",
    "for name in files:\n",
    "    list_of_files_test.append(name)\n",
    "    print(name)"
   ]
  },
  {
   "cell_type": "code",
   "execution_count": 128,
   "metadata": {},
   "outputs": [],
   "source": [
    "words_corpus_sentence_test=read_files(list_of_files_test)"
   ]
  },
  {
   "cell_type": "code",
   "execution_count": 129,
   "metadata": {},
   "outputs": [],
   "source": [
    "# for i in words_corpus_sentence_test:\n",
    "# #     print()\n",
    "#     print(i)"
   ]
  },
  {
   "cell_type": "code",
   "execution_count": 130,
   "metadata": {},
   "outputs": [],
   "source": [
    "def get_trigram_test(sentence): \n",
    "    trigrams_test=[]\n",
    "    for index, word in enumerate(sentence):\n",
    "            if index > 1:\n",
    "                tri_1 = (sentence[index - 2],sentence[index - 1], word)\n",
    "                trigrams_test.append(tri_1)\n",
    "    return trigrams_test\n"
   ]
  },
  {
   "cell_type": "code",
   "execution_count": 131,
   "metadata": {},
   "outputs": [],
   "source": [
    "def get_probability_value(temp_tup_list):\n",
    "    val=0\n",
    "    count=0\n",
    "    length_of_tuple=len(temp_tup_list)\n",
    "    for ind_tup in temp_tup_list:\n",
    "        if ind_tup in trigrams and smoothed_double_trigrams[ind_tup] >0:\n",
    "            val+=smoothed_double_trigrams[ind_tup]\n",
    "            count+=1\n",
    "        else:\n",
    "            break\n",
    "    \n",
    "#     print(length_of_tuple)\n",
    "#     print(count)\n",
    "#     print(val)    \n",
    "    temp_percentage=float(count) / length_of_tuple\n",
    "#     print(temp_percentage)\n",
    "    \n",
    "    return temp_percentage"
   ]
  },
  {
   "cell_type": "code",
   "execution_count": 132,
   "metadata": {},
   "outputs": [
    {
     "name": "stdout",
     "output_type": "stream",
     "text": [
      "correct\n",
      "\n",
      "[['the', 'lair', 'of', 'the', 'white', 'worm', 'to', 'my', 'friend', 'bertha', 'nicoll', 'with', 'affectionate', 'esteem.'], ['chapter', 'i--adam', 'salton', 'arrives', 'adam', 'salton', 'sauntered', 'into', 'the', 'empire', 'club', 'sydney', 'and', 'found', 'awaiting', 'him', 'a', 'letter', 'from', 'his', 'grand-uncle.'], ['he', 'had', 'first', 'heard', 'from', 'the', 'old', 'gentleman', 'less', 'than', 'a', 'year', 'before', 'when', 'richard', 'salton', 'had', 'claimed', 'kinship', 'stating', 'that', 'he', 'had', 'been', 'unable', 'to', 'write', 'earlier', 'as', 'he', 'had', 'found', 'it', 'very', 'difficult', 'to', 'trace', 'his', \"grand-nephew's\", 'address.'], ['adam', 'was', 'delighted', 'and', 'replied', 'cordially', 'he', 'had', 'often', 'heard', 'his', 'father', 'speak', 'of', 'the', 'older', 'branch', 'of', 'the', 'family', 'with', 'whom', 'his', 'people', 'had', 'long', 'lost', 'touch.'], ['some', 'interesting', 'correspondence', 'had', 'ensued.'], ['adam', 'eagerly', 'opened', 'the', 'letter', 'which', 'had', 'only', 'just', 'arrived', 'and', 'conveyed', 'a', 'cordial', 'invitation', 'to', 'stop', 'with', 'his', 'grand-uncle', 'at', 'lesser', 'hill', 'for', 'as', 'long', 'a', 'time', 'as', 'he', 'could', 'spare.']]\n",
      "\n",
      "incorrect\n",
      "[['i', 'ate', 'red', 'apple.']]\n"
     ]
    }
   ],
   "source": [
    "\n",
    "correct_sentence=[]\n",
    "not_correct_sentence=[]\n",
    "for sen in words_corpus_sentence_test:\n",
    "    temp=get_trigram_test(sen)\n",
    "    prob=get_probability_value(temp)\n",
    "    if prob>0.5:\n",
    "        correct_sentence.append(sen)\n",
    "    else:\n",
    "        not_correct_sentence.append(sen)\n",
    "\n",
    "\n",
    "print(\"correct\\n\")\n",
    "\n",
    "      \n",
    "print(correct_sentence)\n",
    "\n",
    "print(\"\\nincorrect\")\n",
    "\n",
    "print(not_correct_sentence)"
   ]
  },
  {
   "cell_type": "markdown",
   "metadata": {},
   "source": [
    "Trigram Spell Checker"
   ]
  },
  {
   "cell_type": "code",
   "execution_count": 133,
   "metadata": {},
   "outputs": [],
   "source": [
    " def get_trigrams_spell(words_corpus_sentence): \n",
    "    trigrams_character={}\n",
    "    for sentence in words_corpus_sentence:\n",
    "         for word in sentence:\n",
    "            for index,character in enumerate(word):\n",
    "                if index >=2: \n",
    "#                     print(word[index-2],word[index-1],word[index]) \n",
    "                    prev_prev = word[index - 2]\n",
    "                    prev = word[index - 1]\n",
    "                    current=word[index]\n",
    "                    if prev_prev not in trigrams_character:\n",
    "                         trigrams_character[prev_prev] = {}\n",
    "                    if prev not in trigrams_character[prev_prev]:\n",
    "                         trigrams_character[prev_prev][prev] = {}\n",
    "                    if current not in trigrams_character[prev_prev][prev]:\n",
    "                         trigrams_character[prev_prev][prev][current] = 0\n",
    "                    trigrams_character[prev_prev][prev][current] += 1           \n",
    "    return trigrams_character\n",
    "\n"
   ]
  },
  {
   "cell_type": "code",
   "execution_count": 145,
   "metadata": {},
   "outputs": [],
   "source": [
    "trigrams_character_model=get_trigrams_spell(words_corpus_sentence)\n",
    "\n",
    "\n",
    "# sorted_trigrams = sort_dict_tri(trigrams_character_model['a']['p'])\n",
    "\n",
    "# t=list(sorted_trigrams[0])[0]\n",
    "# print(t)\n",
    "# sorted_trigrams = sort_dict_tri(trigrams_character_model['p']['p'])\n",
    "# t=list(sorted_trigrams[0])[0]\n",
    "# print(t)\n",
    "# sorted_trigrams = sort_dict_tri(trigrams_character_model['p']['l'])\n",
    "# t=list(sorted_trigrams[0])[0]\n",
    "# print(t)\n",
    "# print(sort_dict_tri(trigrams_character_model['a']['p']))\n",
    "check_word_list=[\"frieaa\",\"saunteqwe\",\"empira\",\"richsss\",\"kinsaaa\"]\n",
    "\n",
    "# print('e' in trigrams_character_model and trigrams_character_model['v']['e'])\n"
   ]
  },
  {
   "cell_type": "markdown",
   "metadata": {},
   "source": [
    "Spellchecker test"
   ]
  },
  {
   "cell_type": "code",
   "execution_count": 146,
   "metadata": {},
   "outputs": [
    {
     "name": "stdout",
     "output_type": "stream",
     "text": [
      "correct  friend\n",
      "correct  saunteres\n",
      "correct  empire\n",
      "correct  richada\n",
      "correct  kinsued\n"
     ]
    }
   ],
   "source": [
    "\n",
    "# print(trigrams_character_model)\n",
    "\n",
    "for check_word in check_word_list:\n",
    "    i=0\n",
    "    flag=0\n",
    "    correct_word=\"\"\n",
    "    while i<len(check_word):\n",
    "    #         print(check_word[i])\n",
    "            if i>=2: \n",
    "                if flag==0:\n",
    "                    c1=check_word[i-2]\n",
    "                    c2=check_word[i-1]\n",
    "                    c3=check_word[i]\n",
    "\n",
    "                    flag=1\n",
    "                    if c1 in trigrams_character_model:\n",
    "    #                     print(c1,c1 in trigrams_character_model)\n",
    "                        if c2 in trigrams_character_model[c1]:\n",
    "    #                         print(c2,c2 in trigrams_character_model)\n",
    "                            if c3 in trigrams_character_model[c1][c2]:\n",
    "#                                 print(\"if11\",c1,c2,c3)\n",
    "                                correct_word=correct_word+c1+c2+c3\n",
    "                                c1=c2\n",
    "                                c2=c3\n",
    "                            else:\n",
    "\n",
    "    #                             print (\"if1 \",c1,c2,list(trigrams_character_model[c1][c2].keys())[0])\n",
    "    #                             t=list(trigrams_character_model[c1][c2].keys())[0]\n",
    "\n",
    "                                sorted_trigrams=sort_dict_tri(trigrams_character_model[c1][c2])\n",
    "                                t=list(sorted_trigrams[0])[0]\n",
    "                                correct_word=correct_word+c1+c2+t\n",
    "                                c1=c2\n",
    "                                c2=t\n",
    "    #                             print(c1,c2)\n",
    "                else:   \n",
    "#                     print(\"else part\",c1,c2)\n",
    "                    c3=check_word[i]\n",
    "                    if c1 in trigrams_character_model:                    \n",
    "                        if c2 in trigrams_character_model[c1]:  \n",
    "                            if c3 in trigrams_character_model[c1][c2]:                            \n",
    "                                correct_word=correct_word+c3\n",
    "                                c1=c2\n",
    "                                c2=c3\n",
    "                            else:\n",
    "    #                             print (\"if2 \",c1,c2,list(trigrams_character_model[c1][c2].keys())[0])\n",
    "    #                             t=list(trigrams_character_model[c1][c2].keys())[0]\n",
    "                                sorted_trigrams=sort_dict_tri(trigrams_character_model[c1][c2])\n",
    "                                t=list(sorted_trigrams[0])[0]                                                        \n",
    "                                correct_word=correct_word+t\n",
    "                                c1=c2\n",
    "                                c2=t\n",
    "\n",
    "\n",
    "            i+=1\n",
    "    #         print(i)\n",
    "\n",
    "\n",
    "\n",
    "    print(\"correct \",correct_word)\n"
   ]
  }
 ],
 "metadata": {
  "kernelspec": {
   "display_name": "Python 2",
   "language": "python",
   "name": "python2"
  },
  "language_info": {
   "codemirror_mode": {
    "name": "ipython",
    "version": 3
   },
   "file_extension": ".py",
   "mimetype": "text/x-python",
   "name": "python",
   "nbconvert_exporter": "python",
   "pygments_lexer": "ipython3",
   "version": "3.5.2"
  }
 },
 "nbformat": 4,
 "nbformat_minor": 2
}
